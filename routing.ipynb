{
 "cells": [
  {
   "cell_type": "code",
   "execution_count": 2,
   "metadata": {},
   "outputs": [
    {
     "name": "stderr",
     "output_type": "stream",
     "text": [
      "c:\\USERS\\AAI47\\CHATBOT_POC1\\lib\\site-packages\\tqdm\\auto.py:21: TqdmWarning: IProgress not found. Please update jupyter and ipywidgets. See https://ipywidgets.readthedocs.io/en/stable/user_install.html\n",
      "  from .autonotebook import tqdm as notebook_tqdm\n"
     ]
    }
   ],
   "source": [
    "from llama_index.core.query_engine import MultiStepQueryEngine\n",
    "from LLM import LLM\n",
    "from llama_index.core.indices.query.query_transform.base import (\n",
    "    StepDecomposeQueryTransform,\n",
    ")"
   ]
  },
  {
   "cell_type": "code",
   "execution_count": 7,
   "metadata": {},
   "outputs": [
    {
     "ename": "ModuleNotFoundError",
     "evalue": "No module named 'llama_index.schema'",
     "output_type": "error",
     "traceback": [
      "\u001b[1;31m---------------------------------------------------------------------------\u001b[0m",
      "\u001b[1;31mModuleNotFoundError\u001b[0m                       Traceback (most recent call last)",
      "Cell \u001b[1;32mIn[7], line 5\u001b[0m\n\u001b[0;32m      2\u001b[0m \u001b[38;5;28;01mimport\u001b[39;00m \u001b[38;5;21;01mtorch\u001b[39;00m\n\u001b[0;32m      3\u001b[0m \u001b[38;5;28;01mfrom\u001b[39;00m \u001b[38;5;21;01mtransformers\u001b[39;00m \u001b[38;5;28;01mimport\u001b[39;00m pipeline\n\u001b[1;32m----> 5\u001b[0m \u001b[38;5;28;01mfrom\u001b[39;00m \u001b[38;5;21;01mllama_index\u001b[39;00m\u001b[38;5;21;01m.\u001b[39;00m\u001b[38;5;21;01mschema\u001b[39;00m \u001b[38;5;28;01mimport\u001b[39;00m IndexNode\n\u001b[0;32m      6\u001b[0m \u001b[38;5;28;01mfrom\u001b[39;00m \u001b[38;5;21;01mllama_index\u001b[39;00m\u001b[38;5;21;01m.\u001b[39;00m\u001b[38;5;21;01mtools\u001b[39;00m \u001b[38;5;28;01mimport\u001b[39;00m QueryEngineTool, ToolMetadata\n\u001b[0;32m      7\u001b[0m \u001b[38;5;28;01mfrom\u001b[39;00m \u001b[38;5;21;01mllama_index\u001b[39;00m\u001b[38;5;21;01m.\u001b[39;00m\u001b[38;5;21;01mllms\u001b[39;00m \u001b[38;5;28;01mimport\u001b[39;00m OpenAI\n",
      "\u001b[1;31mModuleNotFoundError\u001b[0m: No module named 'llama_index.schema'"
     ]
    }
   ],
   "source": [
    "import os\n",
    "import torch\n",
    "from transformers import pipeline\n",
    "\n",
    "from llama_index.schema import IndexNode\n",
    "from llama_index.tools import QueryEngineTool, ToolMetadata\n",
    "from llama_index.llms import OpenAI\n",
    "from llama_index.query_engine import SubQuestionQueryEngine\n",
    "from llama_index.retrievers import RecursiveRetriever\n",
    "from llama_index.query_engine import RetrieverQueryEngine\n",
    "from llama_index.response_synthesizers import get_response_synthesizer\n",
    "from llama_index.vector_stores import PineconeVectorStore\n",
    "from llama_index.graph_stores import Neo4jGraphStore"
   ]
  },
  {
   "cell_type": "code",
   "execution_count": 112,
   "metadata": {},
   "outputs": [],
   "source": [
    "from llama_index.core import Settings\n",
    "from CustomEmbedding import CustomAPIEmbeddings\n",
    "Settings.llm=LLM()\n",
    "embed_model = CustomAPIEmbeddings(embed_batch_size=2)\n",
    "Settings.embed_model = embed_model\n",
    "\n"
   ]
  },
  {
   "cell_type": "markdown",
   "metadata": {},
   "source": [
    "Define utterances"
   ]
  },
  {
   "cell_type": "code",
   "execution_count": 113,
   "metadata": {},
   "outputs": [],
   "source": [
    "ds_doc_queries=[\n",
    "        \"What are the steps and options available to administrators for customizing the search and tagging functionalities within the 3DEXPERIENCE platform?\",\n",
    "        \"How do I manage and refine searches within the 3DEXPERIENCE platform?\",\n",
    "        \"How do I manage and refine searches within the 3DEXPERIENCE platform?\",\n",
    "        \"How to select and customize view modes in 3DSearcht\",\n",
    "        \"How to handle search settings and errors in 3DSearch:\",\n",
    "        \"How to utilize search result actions like tagging, downloading, and editing in 3DSearch\",\n",
    "        \"How to sort and export search results in 3DSearch\",\n",
    "        \"How to manage column customizations in Datagrid view in 3DSearch\",\n",
    "        \"How to select multiple objects in 3DSearch\",\n",
    "        \"What is the purpose of the topbar in the 3DEXPERIENCE platform\",\n",
    "        \"How to refine search queries using advanced search options in the topbar\",\n",
    "        \" How to select and customize view modes in 3DSearch\",\n",
    "        \"can i use Advanced Search\",\n",
    "        \"How do I refine searches within the 3DEXPERIENCE platform, including performing and refining searches, selecting and customizing view modes, and utilizing search result actions?\",\n",
    "        \"What are the key features of the 6WTags functionality, including filtering search results, managing tags in widgets, and utilizing app-specific integrations?\",\n",
    "        \"What are the steps and options available to administrators for customizing the search and tagging functionalities within the 3DEXPERIENCE platform?\",\n",
    "        \"How do I manage and filter content using six categories: What, Who, When, Where, How, and Why?\",\n",
    "    ]\n",
    "\n",
    "federated_search_queries=[\n",
    "       \"Show all documents created by John Doe in January 2024.\",\n",
    "        \"List all 3D shapes modified before July 10, 2024, by any engineer.\",\n",
    "        \"Give me all social content titled 'Team Building Exercise' created by Idir\",\n",
    "        \"Retrieve all documents with a .docx extension edited by Jane.\",\n",
    "        \"Find posts from 2024 that have received more than 10 likes.\",\n",
    "        \"Display all personnel in the Data Scientist role who have created documents this year.\",\n",
    "        \"Show me every vpmreference product updated in the last month.\",\n",
    "        \"Which documents related to 'AI Project' were last modified by a Vice President?\",\n",
    "        \"List all the ideas that have no comments as of today.\",\n",
    "        \"Find all profiles of engineers who modified any social content since June 2024.\",\n",
    "        \"What are the latest documents created by Idir\",\n",
    "        \"Show all products that have been labeled as prototypes and modified this week.\",\n",
    "        \"Retrieve details on social posts made by Alice that include 'market trends'.\",\n",
    "        \"retrieve 3D model created on February 1, 2024\",\n",
    "        \"List all custom documents created last year.\",\n",
    "        \"Find all users who posted ideas related to 'sustainability' in 2024.\",\n",
    "        \"Show me documents with more than 5 revisions made in the first quarter of 2024.\",\n",
    "        \"Which VpmReferences are classified under the root content structure?\",\n",
    "        \"Retrieve all social content created by the R&D department.\",\n",
    "        \"Display the document titled 'Safety Protocols'.\",\n",
    "        \"List all physical products created by any member of the Strategy & Management team.\",\n",
    "        \"Who modified the most documents in the month of May 2024?\",\n",
    "        \"Find all posts with exactly 2 endorsements that discuss 'new technology'.\",\n",
    "        \"Show all business roles related to the 'Engineer' category updated last week.\",\n",
    "        \"Retrieve all documents linked to 'Product Design' that were last modified yesterday.\",\n",
    "        \"List everyone who created a PLMDocCustom document in March 2024.\",\n",
    "        \"Which documents about 'Project Alpha' were last reviewed by software engineers?\",\n",
    "        \"Find all social posts from 2024 discussing 'team collaboration'.\",\n",
    "        \"Display all physical products classified under Intermediate content structure created in 2024.\",\n",
    "        \"List all VPMReferences created by people in the 'Data Scientist' role.\",\n",
    "        \"Retrieve the latest modified VPMReference by any Vice President.\",\n",
    "        \"Show me all personnel changes within the Engineering department this year.\",\n",
    "        \"Which social content received the highest number of likes last month?\",\n",
    "        \"Find documents with 'confidential' in their descriptions updated by strategy managers.\",\n",
    "        \"Display all posts made by any person named 'Tom' that have at least 3 comments.\",\n",
    "        \"List all engineering documents that include the term 'prototype' in their title.\",\n",
    "        \"show documents related to 'Regulatory Compliance' in 2024?\",\n",
    "        \"Find all document with extension 'doc' or 'pdf'.\",\n",
    "        \"Display the documents created by the Software Engineer in 2024.\",\n",
    "]\n",
    "simulation_queries=[\n",
    "        \"Simulate airflow around the new car design model.\",\n",
    "        \"Run a stress test on the bridge structure model from the latest dataset.\",\n",
    "        \"Initiate a thermal simulation for the VPMReference of the jet engine.\",\n",
    "        \"Show me the simulation results of the earthquake resistance test for building model B23.\",\n",
    "        r\"Apply a 10% increase in load to the wing structure and rerun the simulation.\",\n",
    "        \"Create a 3D simulation showing the wear and tear over 5 years for the gear assembly.\",\n",
    "        \"Display the vibration analysis for the prototype machine model under operational conditions.\",\n",
    "        \"Simulate water flow through the new pipe design and identify potential pressure drop points.\",\n",
    "        \"Run a dynamic simulation for the robotic arm movements when lifting a 100 kg weight.\",\n",
    "        \"Perform a crash test simulation for the latest car chassis design.\",\n",
    "        \"Generate a color stress map on the VPMReference of the suspension bridge under maximum load.\",\n",
    "        \"Show a real-time simulation of the assembly line for product X using its 3D model.\",\n",
    "        \"Execute a fatigue analysis on the turbine blades model based on current operational data.\",\n",
    "        \"Simulate the dispersion pattern of particles in the air filter system.\",\n",
    "        \"Preview the heat dissipation simulation for the newly designed laptop cooling system.\",\n",
    "        \"Conduct a light exposure simulation on the solar panel array model.\",\n",
    "        \"Perform a simulation to test the new packaging design's resistance to shock and drops.\",\n",
    "        \"Create a simulation of the airflow in the HVAC system for the commercial building model.\",\n",
    "        \"Run a fluid dynamics simulation for the prototype water pump.\",\n",
    "        \"Simulate the electrical conductivity of the new semiconductor design.\",\n",
    "        \"Preview the deformation under load for the composite material sample.\",\n",
    "        \"Initiate a magnetic field simulation for the electric motor model.\",\n",
    "        \"Perform a wind tunnel simulation on the scale model of the high-speed train.\",\n",
    "        \"Display the simulation of sound wave propagation through the new theater design.\",\n",
    "        \"Simulate the effect of different soil types on the foundation model of the skyscraper.\",\n",
    "        \"Run a multi-phase flow simulation for the oil pipeline model under varying pressures.\",\n",
    "        \"Show the thermal expansion simulation for the metal alloy under extreme heat.\",\n",
    "        \"Perform a particle collision simulation in the new accelerator model.\",\n",
    "        \"Create a 3D simulation of light absorption by the new photovoltaic material.\",\n",
    "        \"Simulate the mechanical behavior of the joint assembly under repetitive movements.\",\n",
    "        \"Execute a corrosion simulation for the underwater hull design of the ship.\",\n",
    "        \"Run an aerodynamics simulation for the new drone design at different wind speeds.\",\n",
    "        \"Display a simulation of the wireless signal coverage for the new smartphone design.\",\n",
    "        \"Simulate the operational efficiency of the hydraulic system under full load.\",\n",
    "        \"Perform a shadow analysis on the urban development model during summer solstice.\",\n",
    "        \"Initiate a resonance frequency simulation for the newly designed guitar.\",\n",
    "        \"Show the simulation of fluid interaction with different impeller designs in the mixer.\",\n",
    "        \"Run a granular flow simulation for the hopper design in the food processing plant.\",\n",
    "        \"Simulate the dynamic response of the suspension system when driving over rough terrain.\",\n",
    "        \"Perform a virtual crash test for the latest design.\",\n",
    "]\n",
    "\n"
   ]
  },
  {
   "cell_type": "code",
   "execution_count": 134,
   "metadata": {},
   "outputs": [
    {
     "data": {
      "text/plain": [
       "'{\\n  \"1\": \"How to use the search tool to filter?\",\\n  \"2\": \"Search for all posts created today.\"\\n}'"
      ]
     },
     "execution_count": 134,
     "metadata": {},
     "output_type": "execute_result"
    }
   ],
   "source": [
    "query=\"How to use the search tool to filter ? and then search for me all posts created today\"\n",
    "# query=\"Launch simulation about content design created yesterday\"\n",
    "# query=\"what is ds6w\"\n",
    "# query=\"search for content design created yesterday then launch a simulation about these results\"\n",
    "\n",
    "prompt = f\"\"\"\n",
    "You are an intelligent agent designed to decompose user queries to successfully route them to the most relevant agent based on the task and intent of the query. \n",
    "\n",
    "We have three agents:\n",
    "1. The Informative Agent retrieves information about how to use the search and filters, definitions, checks for accessibility and access, and responds to user queries from web documentation.\n",
    "2. The Search Agent launches searches for desired items and can filter by date, person, and other criteria.\n",
    "3. The Act Agent performs simulations.\n",
    "\n",
    "Here are the steps to handle the query:\n",
    "1. Analyze the given user query to determine its intent, considering the global context:\n",
    "   - If the query has a single intent, reformulate it clearly without changing its core meaning. Correct or clarify it as needed, but do not make significant modifications.\n",
    "   - If there are multiple intents or hidden intents, decompose the query into sub-queries where each sub-query has a single intent and single task.\n",
    "2. Determine the final and global intent of the result.\n",
    "3. If decomposition is necessary, decompose the query into sub-queries without adding extra information or changing the original meaning. Ensure the intent/task is clearly expressed and order these tasks by time of execution: define which task should be launched first and which comes after it.\n",
    "\n",
    "Important: For single intent queries, do not significantly alter the original query. Only make necessary corrections or clarifications. Do not add extra information or change the intent.\n",
    "\n",
    "Return the result in the following format:\n",
    "- If single intent: {{\"1\": \"REWRITTEN_QUERY\"}}\n",
    "- If multiple intents: {{\"1\": \"FIRST_SUBQUERY/FIRST_TASK\", \"2\": \"SECOND_SUBQUERY/SECOND_TASK\", ...}} with the keys indicating the order of execution.\n",
    "\n",
    "Examples:\n",
    "\n",
    "Original query: \"launch a simulation about content design created today\"\n",
    "This is a multi-intent query. \n",
    "The global intent is to perform a simulation, but a simulation of what? \n",
    "That is why we need to search for the object to simulate, which involves searching for content designs created today.\n",
    "\n",
    "Result:\n",
    "{{\n",
    "  \"1\": \"Search for content designs created today.\",\n",
    "  \"2\": \"Execute a simulation of these results.\"\n",
    "}}\n",
    "\n",
    "Another Example: \n",
    "Original query: \"How to launch advanced search\"\n",
    "This is a single-intent query. \n",
    "The global intent is to look for information.\n",
    "\n",
    "Result:\n",
    "{{\"1\": \"How to launch advanced search?\"}}\n",
    "\n",
    "Respond ONLY with the result. Do not Add extra text\n",
    "\n",
    "Original query: {query}\n",
    "\"\"\"\n",
    "\n",
    "llm = LLM()\n",
    "processed_query = llm.complete(prompt).text\n",
    "processed_query\n"
   ]
  },
  {
   "cell_type": "markdown",
   "metadata": {},
   "source": [
    "### Query Routing using LLM Multiselector"
   ]
  },
  {
   "cell_type": "code",
   "execution_count": 111,
   "metadata": {},
   "outputs": [
    {
     "name": "stdout",
     "output_type": "stream",
     "text": [
      "[SingleSelection(index=2, reason='The Act assistant can simulate objects, including receiving input and converting it to 3D design, which could be relevant to launching a simulation about content created today.')]\n"
     ]
    }
   ],
   "source": [
    "from llama_index.core.tools import ToolMetadata\n",
    "from llama_index.core.selectors import LLMSingleSelector,LLMMultiSelector, PydanticMultiSelector\n",
    "\n",
    "\n",
    "choices = [\n",
    "    ToolMetadata(description=\"Documentation, informative assitant on What and how to use the 3dSearch and 6wtags withing to 3dExperience platform for simple users, developer and admins \", name=\"poc1\"),\n",
    "    ToolMetadata(description=\"useful for searching and filtering using natural language for example users can search for objects and filter by person responsible, creation date, modification date , type of object ,content,description and title   \", name=\"poc2\"),\n",
    "    ToolMetadata(description=\"An Act assitant , that do simulations of object, receive in input and object for example a products, a description , and convert it to 3d design ou do a simulation of it \", name=\"poc3\"),\n",
    "]\n",
    "selector =  LLMMultiSelector.from_defaults()\n",
    "selector_result = selector.select(\n",
    "    choices, query=\"launch simulation about content created today\"\n",
    ")\n",
    "print(selector_result.selections)"
   ]
  },
  {
   "cell_type": "code",
   "execution_count": 145,
   "metadata": {},
   "outputs": [
    {
     "ename": "FileNotFoundError",
     "evalue": "[WinError 3] The system cannot find the path specified: 'intention engine\\\\queries\\\\doc_queries.txt'",
     "output_type": "error",
     "traceback": [
      "\u001b[1;31m---------------------------------------------------------------------------\u001b[0m",
      "\u001b[1;31mFileNotFoundError\u001b[0m                         Traceback (most recent call last)",
      "Cell \u001b[1;32mIn[145], line 7\u001b[0m\n\u001b[0;32m      4\u001b[0m search \u001b[38;5;241m=\u001b[39m \u001b[38;5;124mr\u001b[39m\u001b[38;5;124m\"\u001b[39m\u001b[38;5;124mintention engine\u001b[39m\u001b[38;5;124m\\\u001b[39m\u001b[38;5;124mqueries\u001b[39m\u001b[38;5;124m\\\u001b[39m\u001b[38;5;124mFederated_search_queries.txt\u001b[39m\u001b[38;5;124m\"\u001b[39m\n\u001b[0;32m      5\u001b[0m simulation \u001b[38;5;241m=\u001b[39m \u001b[38;5;124mr\u001b[39m\u001b[38;5;124m\"\u001b[39m\u001b[38;5;124mintention engine\u001b[39m\u001b[38;5;124m\\\u001b[39m\u001b[38;5;124mqueries\u001b[39m\u001b[38;5;124m\\\u001b[39m\u001b[38;5;124msimulation_queries.txt\u001b[39m\u001b[38;5;124m\"\u001b[39m\n\u001b[1;32m----> 7\u001b[0m \u001b[38;5;28mprint\u001b[39m(\u001b[43mos\u001b[49m\u001b[38;5;241;43m.\u001b[39;49m\u001b[43mlistdir\u001b[49m\u001b[43m(\u001b[49m\u001b[43mdoc\u001b[49m\u001b[43m)\u001b[49m)\n\u001b[0;32m      8\u001b[0m \u001b[38;5;28mprint\u001b[39m(os\u001b[38;5;241m.\u001b[39mlistdir(search))\n",
      "\u001b[1;31mFileNotFoundError\u001b[0m: [WinError 3] The system cannot find the path specified: 'intention engine\\\\queries\\\\doc_queries.txt'"
     ]
    }
   ],
   "source": [
    "import os\n",
    "\n",
    "doc = r\"intention _ngine\\queries\\doc_queries.txt\"\n",
    "search = r\"intention_engine\\queries\\Federated_search_queries.txt\"\n",
    "simulation = r\"intention_engine\\queries\\simulation_queries.txt\"\n",
    "\n",
    "print(os.listdir(doc))\n",
    "print(os.listdir(search))"
   ]
  },
  {
   "cell_type": "code",
   "execution_count": null,
   "metadata": {},
   "outputs": [],
   "source": [
    "admin_engine"
   ]
  },
  {
   "cell_type": "code",
   "execution_count": 136,
   "metadata": {},
   "outputs": [
    {
     "ename": "TypeError",
     "evalue": "__init__() missing 1 required positional argument: 'query_engine'",
     "output_type": "error",
     "traceback": [
      "\u001b[1;31m---------------------------------------------------------------------------\u001b[0m",
      "\u001b[1;31mTypeError\u001b[0m                                 Traceback (most recent call last)",
      "Cell \u001b[1;32mIn[136], line 4\u001b[0m\n\u001b[0;32m      1\u001b[0m \u001b[38;5;28;01mfrom\u001b[39;00m \u001b[38;5;21;01mllama_index\u001b[39;00m\u001b[38;5;21;01m.\u001b[39;00m\u001b[38;5;21;01mcore\u001b[39;00m\u001b[38;5;21;01m.\u001b[39;00m\u001b[38;5;21;01mtools\u001b[39;00m \u001b[38;5;28;01mimport\u001b[39;00m QueryEngineTool, ToolMetadata\n\u001b[0;32m      3\u001b[0m query_engine_tools \u001b[38;5;241m=\u001b[39m [\n\u001b[1;32m----> 4\u001b[0m     \u001b[43mQueryEngineTool\u001b[49m\u001b[43m(\u001b[49m\n\u001b[0;32m      5\u001b[0m \u001b[43m        \u001b[49m\u001b[43mmetadata\u001b[49m\u001b[38;5;241;43m=\u001b[39;49m\u001b[43mToolMetadata\u001b[49m\u001b[43m(\u001b[49m\n\u001b[0;32m      6\u001b[0m \u001b[43m            \u001b[49m\u001b[43mname\u001b[49m\u001b[38;5;241;43m=\u001b[39;49m\u001b[38;5;124;43m\"\u001b[39;49m\u001b[38;5;124;43mAdmin \u001b[39;49m\u001b[38;5;124;43m\"\u001b[39;49m\u001b[43m,\u001b[49m\n\u001b[0;32m      7\u001b[0m \u001b[43m            \u001b[49m\u001b[43mdescription\u001b[49m\u001b[38;5;241;43m=\u001b[39;49m\u001b[43m(\u001b[49m\u001b[43m \u001b[49m\u001b[43mds_doc_queries\u001b[49m\u001b[43m)\u001b[49m\u001b[43m,\u001b[49m\n\u001b[0;32m      8\u001b[0m \u001b[43m        \u001b[49m\u001b[43m)\u001b[49m\u001b[43m,\u001b[49m\n\u001b[0;32m      9\u001b[0m \u001b[43m    \u001b[49m\u001b[43m)\u001b[49m,\n\u001b[0;32m     10\u001b[0m     QueryEngineTool(\n\u001b[0;32m     11\u001b[0m         metadata\u001b[38;5;241m=\u001b[39mToolMetadata(\n\u001b[0;32m     12\u001b[0m             name\u001b[38;5;241m=\u001b[39m\u001b[38;5;124m\"\u001b[39m\u001b[38;5;124mUser 6WTags documentation\u001b[39m\u001b[38;5;124m\"\u001b[39m,\n\u001b[0;32m     13\u001b[0m             description\u001b[38;5;241m=\u001b[39m(federated_search_queries\n\u001b[0;32m     14\u001b[0m             ),\n\u001b[0;32m     15\u001b[0m         ),\n\u001b[0;32m     16\u001b[0m     ),\n\u001b[0;32m     17\u001b[0m     QueryEngineTool(\n\u001b[0;32m     18\u001b[0m         metadata\u001b[38;5;241m=\u001b[39mToolMetadata(\n\u001b[0;32m     19\u001b[0m             name\u001b[38;5;241m=\u001b[39m\u001b[38;5;124m\"\u001b[39m\u001b[38;5;124mUser 3DSearch documentation\u001b[39m\u001b[38;5;124m\"\u001b[39m,\n\u001b[0;32m     20\u001b[0m             description\u001b[38;5;241m=\u001b[39m(simulation_queries),\n\u001b[0;32m     21\u001b[0m         ),\n\u001b[0;32m     22\u001b[0m     ),\n\u001b[0;32m     23\u001b[0m ]\n\u001b[0;32m     25\u001b[0m s_engine \u001b[38;5;241m=\u001b[39m SubQuestionQueryEngine\u001b[38;5;241m.\u001b[39mfrom_defaults(\n\u001b[0;32m     26\u001b[0m     query_engine_tools\u001b[38;5;241m=\u001b[39mquery_engine_tools\n\u001b[0;32m     27\u001b[0m )\n",
      "\u001b[1;31mTypeError\u001b[0m: __init__() missing 1 required positional argument: 'query_engine'"
     ]
    }
   ],
   "source": [
    "query_engine_tools = [\n",
    "    QueryEngineTool(\n",
    "        query_engine=admin_engine,\n",
    "        metadata=ToolMetadata(\n",
    "            name=\"Admin \",\n",
    "            description=(\n",
    "                \"Steps and options available to administrators for customizing the search and tagging functionalities within the 3DEXPERIENCE platform, including synonym management, tag inclusion and exclusion, default display settings, and the ability to import and export search configurations for platform-wide user experience optimization \"\n",
    "            ),\n",
    "        ),\n",
    "    ),\n",
    "    QueryEngineTool(\n",
    "        query_engine=user_6w_engine,\n",
    "        metadata=ToolMetadata(\n",
    "            name=\"User 6WTags documentation\",\n",
    "            description=(\n",
    "                \"The 3DEXPERIENCE platform documentation on 6WTags provides comprehensive information on managing and filtering content using six categories: What, Who, When, Where, How, and Why. These tags can be applied to various types of content, including design data, simulation results, and office documents. The documentation explains how to use and customize 6WTags, create and remove user-defined tags, and integrate 6WTags with specific applications like 3DDashboard, 3DSearch, and 3DSwym. Key features include filtering search results, managing tags in widgets, and utilizing app-specific integrations to enhance content organization and retrieval. This functionality allows users to efficiently categorize and find relevant data within the platform.\"\n",
    "            ),\n",
    "        ),\n",
    "    ),\n",
    "    QueryEngineTool(\n",
    "        query_engine=user_3dsearch_engine,\n",
    "        metadata=ToolMetadata(\n",
    "            name=\"User 3DSearch documentation\",\n",
    "            description=(\n",
    "                \"The User 3DSearch documentation provides comprehensive guidance on managing and refining searches within the 3DEXPERIENCE platform. It covers performing and refining searches, selecting and customizing view modes, sorting and exporting results, and utilizing search result actions like tagging, downloading, and editing. Key features include the 6W Lifelike Search Experience, Advanced Search for filtering with specific attributes, focusing on preferred types, and using predefined queries for targeted searches. Additionally, it explains selecting multiple objects, managing column customizations in Datagrid view, and handling search settings and errors. Users can call back the last search, add favorite searches, and access personal indexed content with My Content and My Recent Content features. These functionalities collectively enhance the efficiency and accuracy of data retrieval, ensuring effective search management and retrieval within the platform.\"\n",
    "            ),\n",
    "        ),\n",
    "    ),\n",
    "]\n",
    "\n",
    "s_engine = SubQuestionQueryEngine.from_defaults(\n",
    "    query_engine_tools=query_engine_tools\n",
    ")\n"
   ]
  }
 ],
 "metadata": {
  "kernelspec": {
   "display_name": "CHATBOT_POC1",
   "language": "python",
   "name": "python3"
  },
  "language_info": {
   "codemirror_mode": {
    "name": "ipython",
    "version": 3
   },
   "file_extension": ".py",
   "mimetype": "text/x-python",
   "name": "python",
   "nbconvert_exporter": "python",
   "pygments_lexer": "ipython3",
   "version": "3.9.13"
  }
 },
 "nbformat": 4,
 "nbformat_minor": 2
}
