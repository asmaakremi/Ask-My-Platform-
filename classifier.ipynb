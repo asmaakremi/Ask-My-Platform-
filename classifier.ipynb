{
 "cells": [
  {
   "cell_type": "code",
   "execution_count": 10,
   "metadata": {},
   "outputs": [
    {
     "data": {
      "text/plain": [
       "(148, 2)"
      ]
     },
     "execution_count": 10,
     "metadata": {},
     "output_type": "execute_result"
    }
   ],
   "source": [
    "import pandas as pd\n",
    "from sklearn.model_selection import train_test_split\n",
    "from sklearn.feature_extraction.text import TfidfVectorizer\n",
    "from sklearn.naive_bayes import MultinomialNB\n",
    "from sklearn.pipeline import make_pipeline\n",
    "from sklearn.metrics import classification_report\n",
    "\n",
    "data = [\n",
    "    (\"Explain how to perform an advanced search for 3D models using 6W tags\", \"3ds_doc\"),\n",
    "    (\"Show me results for models created in the last week with these tags\", \"federated_search\"),\n",
    "    (\"Run a stress test simulation on the most recently added model\", \"simulation\"),\n",
    "    (\"Explain how to perform an advanced search for 3D models using 6W tags\", \"3ds_doc\"),\n",
    "    (\"Tell me how to apply date filters in advanced searches for 3D content\", \"3ds_doc\"),\n",
    "    (\"Get the latest updates in the documentation about the 3D model search engine\", \"3ds_doc\"),\n",
    "    (\"Guide me through the process of using metadata for 3D searches\", \"3ds_doc\"),\n",
    "    (\"What are the key features of the 6WTags functionality?\", \"3ds_doc\"),\n",
    "    (\"How to utilize search result actions like tagging and downloading in 3DSearch\", \"3ds_doc\"),\n",
    "    (\"How do I manage and refine searches within the 3DEXPERIENCE platform?\", \"3ds_doc\"),\n",
    "    (\"How to select and customize view modes in 3DSearch\", \"3ds_doc\"),\n",
    "    (\"What are the steps for customizing search functionalities within the 3DEXPERIENCE platform?\", \"3ds_doc\"),\n",
    "    (\"How to handle search settings and errors in 3DSearch\", \"3ds_doc\"),\n",
    "    (\"How do I manage and filter content using six categories: What, Who, When, Where, How, and Why?\", \"3ds_doc\"),\n",
    "    (\"How to manage column customizations in Datagrid view in 3DSearch\", \"3ds_doc\"),\n",
    "    (\"How to refine search queries using advanced search options in the topbar\", \"3ds_doc\"),\n",
    "    (\"How to sort and export search results in 3DSearch\", \"3ds_doc\"),\n",
    "    (\"How to utilize app-specific integrations in 6WTags\", \"3ds_doc\"),\n",
    "    (\"What are the steps and options available to administrators for customizing the search and tagging functionalities within the 3DEXPERIENCE platform?\", \"3ds_doc\"),\n",
    "       ( \"How do I manage and refine searches within the 3DEXPERIENCE platform?\", \"3ds_doc\"),\n",
    "       ( \"How do I manage and refine searches within the 3DEXPERIENCE platform?\", \"3ds_doc\"),\n",
    "        (\"How to select and customize view modes in 3DSearcht\", \"3ds_doc\"),\n",
    "       (\"How to handle search settings and errors in 3DSearch:\", \"3ds_doc\"),\n",
    "       ( \"How to utilize search result actions like tagging, downloading, and editing in 3DSearch\", \"3ds_doc\"),\n",
    "       ( \"How to sort and export search results in 3DSearch\", \"3ds_doc\"),\n",
    "       ( \"How to manage column customizations in Datagrid view in 3DSearch\", \"3ds_doc\"),\n",
    "        (\"How to select multiple objects in 3DSearch\", \"3ds_doc\"),\n",
    "        (\"What is the purpose of the topbar in the 3DEXPERIENCE platform\", \"3ds_doc\"),\n",
    "        (\"How to refine search queries using advanced search options in the topbar\", \"3ds_doc\"),\n",
    "       ( \" How to select and customize view modes in 3DSearch\", \"3ds_doc\"),\n",
    "       ( \"can i use Advanced Search\", \"3ds_doc\"),\n",
    "        (\"How do I refine searches within the 3DEXPERIENCE platform, including performing and refining searches, selecting and customizing view modes, and utilizing search result actions?\", \"3ds_doc\"),\n",
    "       ( \"What are the key features of the 6WTags functionality, including filtering search results, managing tags in widgets, and utilizing app-specific integrations?\", \"3ds_doc\"),\n",
    "        (\"What are the steps and options available to administrators for customizing the search and tagging functionalities within the 3DEXPERIENCE platform?\", \"3ds_doc\"),\n",
    "       ( \"How do I manage and filter content using six categories: What, Who, When, Where, How, and Why?\", \"3ds_doc\"),\n",
    "        (\"Retrieve the latest updates in the documentation about \", \"3ds_doc\"),\n",
    "\n",
    "    # Federated Search Agent (federated_search)\n",
    "    (\"Show me results for models created in the last week with these tags\", \"federated_search\"),\n",
    "    (\"Retrieve all models that are compatible with version 2.5\", \"federated_search\"),\n",
    "    (\"Search for models tagged as 'eco-friendly'\", \"federated_search\"),\n",
    "    (\"Find all social content titled 'Team Building Exercise'\", \"federated_search\"),\n",
    "    (\"List all 3D shapes modified before July 2024\", \"federated_search\"),\n",
    "    (\"Show all documents created by John Doe in January 2024\", \"federated_search\"),\n",
    "    (\"Display all personnel in the Data Scientist role who have created documents this year\", \"federated_search\"),\n",
    "    (\"Retrieve details on social posts made by Alice that include 'market trends'\", \"federated_search\"),\n",
    "    (\"Find all posts with exactly 2 endorsements that discuss 'new technology'\", \"federated_search\"),\n",
    "    (\"List all VPMReferences created by people in the 'Data Scientist' role\", \"federated_search\"),\n",
    "    (\"Retrieve the latest modified VPMReference by any Vice President\", \"federated_search\"),\n",
    "    (\"What are the latest documents created by Idir?\", \"federated_search\"),\n",
    "    (\"Display the document titled 'Safety Protocols'\", \"federated_search\"),\n",
    "    (\"Find documents with 'confidential' in their descriptions updated by strategy managers\", \"federated_search\"),\n",
    "    (\"Show all products labeled as prototypes and modified this week\", \"federated_search\"),\n",
    "  ( \"Show all documents created by John Doe in January 2024.\", \"federated_search\"),\n",
    "       (\"List all 3D shapes modified before July 10, 2024, by any engineer.\", \"federated_search\"),\n",
    "        (\"Give me all social content titled 'Team Building Exercise' created by Idir\", \"federated_search\"),\n",
    "       ( \"Retrieve all documents with a .docx extension edited by Jane.\", \"federated_search\"),\n",
    "       ( \"Find posts from 2024 that have received more than 10 likes.\", \"federated_search\"),\n",
    "       ( \"Display all personnel in the Data Scientist role who have created documents this year.\", \"federated_search\"),\n",
    "       ( \"Show me every vpmreference product updated in the last month.\", \"federated_search\"),\n",
    "       ( \"Which documents related to 'AI Project' were last modified by a Vice President?\", \"federated_search\"),\n",
    "       ( \"List all the ideas that have no comments as of today.\", \"federated_search\"),\n",
    "       ( \"Find all profiles of engineers who modified any social content since June 2024.\", \"federated_search\"),\n",
    "        (\"What are the latest documents created by Idir\", \"federated_search\"),\n",
    "       ( \"Show all products that have been labeled as prototypes and modified this week.\", \"federated_search\"),\n",
    "       ( \"Retrieve details on social posts made by Alice that include 'market trends'.\", \"federated_search\"),\n",
    "       ( \"retrieve 3D model created on February 1, 2024\", \"federated_search\"),\n",
    "       ( \"List all custom documents created last year.\", \"federated_search\"),\n",
    "       ( \"Find all users who posted ideas related to 'sustainability' in 2024.\", \"federated_search\"),\n",
    "       ( \"Show me documents with more than 5 revisions made in the first quarter of 2024.\", \"federated_search\"),\n",
    "      (  \"Which VpmReferences are classified under the root content structure?\", \"federated_search\"),\n",
    "       ( \"Retrieve all social content created by the R&D department.\", \"federated_search\"),\n",
    "        (\"Display the document titled 'Safety Protocols'.\", \"federated_search\"),\n",
    "        (\"List all physical products created by any member of the Strategy & Management team.\", \"federated_search\"),\n",
    "       ( \"Who modified the most documents in the month of May 2024?\", \"federated_search\"),\n",
    "       ( \"Find all posts with exactly 2 endorsements that discuss 'new technology'.\", \"federated_search\"),\n",
    "        (\"Show all business roles related to the 'Engineer' category updated last week.\", \"federated_search\"),\n",
    "       ( \"Retrieve all documents linked to 'Product Design' that were last modified yesterday.\", \"federated_search\"),\n",
    "       ( \"List everyone who created a PLMDocCustom document in March 2024.\", \"federated_search\"),\n",
    "       ( \"Which documents about 'Project Alpha' were last reviewed by software engineers?\", \"federated_search\"),\n",
    "       ( \"Find all social posts from 2024 discussing 'team collaboration'.\", \"federated_search\"),\n",
    "       ( \"Display all physical products classified under Intermediate content structure created in 2024.\", \"federated_search\"),\n",
    "       (\"List all VPMReferences created by people in the 'Data Scientist' role.\", \"federated_search\"),\n",
    "        (\"Retrieve the latest modified VPMReference by any Vice President.\", \"federated_search\"),\n",
    "       ( \"Show me all personnel changes within the Engineering department this year.\", \"federated_search\"),\n",
    "       (\"Which social content received the highest number of likes last month?\", \"federated_search\"),\n",
    "        (\"Find documents with 'confidential' in their descriptions updated by strategy managers.\", \"federated_search\"),\n",
    "       (\"Display all posts made by any person named 'Tom' that have at least 3 comments.\", \"federated_search\"),\n",
    "       ( \"List all engineering documents that include the term 'prototype' in their title.\", \"federated_search\"),\n",
    "       ( \"show documents related to 'Regulatory Compliance' in 2024?\", \"federated_search\"),\n",
    "        (\"Find all document with extension 'doc' or 'pdf'.\", \"federated_search\"),\n",
    "        (\"Display the documents created by the Software Engineer in 2024.\", \"federated_search\"),\n",
    "        (\"Filter all content by Creator,Creation Date, Responsible and Type \", \"federated_search\"),\n",
    "       (\"Search all posts, products, ideas by Creator,Creation Date, Responsible and Type \", \"federated_search\"),\n",
    "        (\"Provide guidance on using the search\", \"federated_search\"),\n",
    "\n",
    "    # Simulation Agent (simulation)\n",
    "    (\"Run a stress test simulation on the most recently added model\", \"simulation\"),\n",
    "    (\"Simulate the performance of the retrieved models\", \"simulation\"),\n",
    "    (\"Simulate water flow through the new pipe design\", \"simulation\"),\n",
    "    (\"Generate a color stress map on the suspension bridge under maximum load\", \"simulation\"),\n",
    "    (\"Run a dynamic simulation for robotic arm movements when lifting 100 kg weight\", \"simulation\"),\n",
    "    (\"Preview the heat dissipation simulation for the newly designed laptop cooling system\", \"simulation\"),\n",
    "    (\"Execute a fatigue analysis on the turbine blades model based on current operational data\", \"simulation\"),\n",
    "    (\"Perform a virtual crash test for the latest helmet design\", \"simulation\"),\n",
    "    (\"Simulate the dispersion pattern of particles in the air filter system\", \"simulation\"),\n",
    "    (\"Run a fluid dynamics simulation for the prototype water pump\", \"simulation\"),\n",
    "    (\"Initiate a thermal simulation for the jet engine VPMReference\", \"simulation\"),\n",
    "    (\"Simulate the mechanical behavior of the joint assembly under repetitive movements\", \"simulation\"),\n",
    "    (\"Run a granular flow simulation for the hopper design in the food processing plant\", \"simulation\"),\n",
    "    (\"Perform a shadow analysis on the urban development model during summer solstice\", \"simulation\"),    \n",
    "    (\"Simulate airflow around the new car design model.\", \"simulation\"),\n",
    "(\"Run a stress test on the bridge structure model from the latest dataset.\", \"simulation\"),\n",
    "(\"Initiate a thermal simulation for the VPMReference of the jet engine.\",\"simulation\"),\n",
    "(\"Show me the simulation results of the earthquake resistance test for building model B23.\",\"simulation\"),\n",
    "(r\"Apply a 10% increase in load to the wing structure and rerun the simulation.\",\"simulation\"),\n",
    "(\"Create a 3D simulation showing the wear and tear over 5 years for the gear assembly.\",\"simulation\"),\n",
    "(\"Display the vibration analysis for the prototype machine model under operational conditions.\",\"simulation\"),\n",
    "(\"Simulate water flow through the new pipe design and identify potential pressure drop points.\",\"simulation\"),\n",
    "(\"Run a dynamic simulation for the robotic arm movements when lifting a 100 kg weight.\",\"simulation\"),\n",
    "(\"Perform a crash test simulation for the latest car chassis design.\",\"simulation\"),\n",
    "(\"Generate a color stress map on the VPMReference of the suspension bridge under maximum load.\",\"simulation\"),\n",
    "(\"Show a real-time simulation of the assembly line for product X using its 3D model.\",\"simulation\"),\n",
    "(\"Execute a fatigue analysis on the turbine blades model based on current operational data.\",\"simulation\"),\n",
    "(\"Simulate the dispersion pattern of particles in the air filter system.\",\"simulation\"),\n",
    "(\"Preview the heat dissipation simulation for the newly designed laptop cooling system.\",\"simulation\"),\n",
    "(\"Conduct a light exposure simulation on the solar panel array model.\",\"simulation\"),\n",
    "(\"Perform a simulation to test the new packaging design's resistance to shock and drops.\",\"simulation\"),\n",
    "(\"Create a simulation of the airflow in the HVAC system for the commercial building model.\",\"simulation\"),\n",
    "(\"Run a fluid dynamics simulation for the prototype water pump.\",\"simulation\"),\n",
    "(\"Simulate the electrical conductivity of the new semiconductor design.\",\"simulation\"),\n",
    "(\"Preview the deformation under load for the composite material sample.\",\"simulation\"),\n",
    "(\"Initiate a magnetic field simulation for the electric motor model.\",\"simulation\"),\n",
    "(\"Perform a wind tunnel simulation on the scale model of the high-speed train.\",\"simulation\"),\n",
    "(\"Display the simulation of sound wave propagation through the new theater design.\",\"simulation\"),\n",
    "(\"Simulate the effect of different soil types on the foundation model of the skyscraper.\",\"simulation\"),\n",
    "(\"Run a multi-phase flow simulation for the oil pipeline model under varying pressures.\",\"simulation\"),\n",
    "(\"Show the thermal expansion simulation for the metal alloy under extreme heat.\",\"simulation\"),\n",
    "(\"Perform a particle collision simulation in the new accelerator model.\",\"simulation\"),\n",
    "(\"Create a 3D simulation of light absorption by the new photovoltaic material.\",\"simulation\"),\n",
    "(\"Simulate the mechanical behavior of the joint assembly under repetitive movements.\",\"simulation\"),\n",
    "(\"Execute a corrosion simulation for the underwater hull design of the ship.\",\"simulation\"),\n",
    "(\"Run an aerodynamics simulation for the new drone design at different wind speeds.\",\"simulation\"),\n",
    "(\"Display a simulation of the wireless signal coverage for the new smartphone design.\",\"simulation\"),\n",
    "(\"Simulate the operational efficiency of the hydraulic system under full load.\",\"simulation\"),\n",
    "(\"Perform a shadow analysis on the urban development model during summer solstice.\",\"simulation\"),\n",
    "(\"Initiate a resonance frequency simulation for the newly designed guitar.\",\"simulation\"),\n",
    "(\"Show the simulation of fluid interaction with different impeller designs in the mixer.\",\"simulation\"),\n",
    "(\"Run a granular flow simulation for the hopper design in the food processing plant.\",\"simulation\"),\n",
    "(\"Simulate the dynamic response of the suspension system when driving over rough terrain.\",\"simulation\"),\n",
    "(\"Perform a virtual crash test for the latest helmet design.\",\"simulation\"),\n",
    "(\"Simulate the performance of the retrieved models\",\"simulation\"), \n",
    "\n",
    "\n",
    "]\n",
    "\n",
    "\n",
    "\n",
    "df = pd.DataFrame(data, columns=['query', 'agent'])\n",
    "df.shape\n"
   ]
  },
  {
   "cell_type": "markdown",
   "metadata": {},
   "source": [
    "## 1.Collecte et Préparation des Données"
   ]
  },
  {
   "cell_type": "code",
   "execution_count": 11,
   "metadata": {},
   "outputs": [
    {
     "name": "stderr",
     "output_type": "stream",
     "text": [
      "[nltk_data] Downloading package punkt to\n",
      "[nltk_data]     C:\\Users\\AAI47\\AppData\\Roaming\\nltk_data...\n",
      "[nltk_data]   Package punkt is already up-to-date!\n",
      "[nltk_data] Downloading package stopwords to\n",
      "[nltk_data]     C:\\Users\\AAI47\\AppData\\Roaming\\nltk_data...\n",
      "[nltk_data]   Package stopwords is already up-to-date!\n",
      "[nltk_data] Downloading package wordnet to\n",
      "[nltk_data]     C:\\Users\\AAI47\\AppData\\Roaming\\nltk_data...\n",
      "[nltk_data]   Package wordnet is already up-to-date!\n"
     ]
    },
    {
     "name": "stdout",
     "output_type": "stream",
     "text": [
      "Original: Explain how to perform an advanced search for 3D models using 6W tags\n",
      "Nettoyé: explain perform advanced search 3d model use 6w tag\n",
      "\n",
      "\n",
      "Original: Show me results for models created in the last week with these tags\n",
      "Nettoyé: show result model create last week tag\n",
      "\n",
      "\n",
      "Original: Run a stress test simulation on the most recently added model\n",
      "Nettoyé: run stress test simulation recently add model\n",
      "\n",
      "\n"
     ]
    }
   ],
   "source": [
    "import nltk\n",
    "import spacy\n",
    "from nltk.corpus import stopwords\n",
    "from nltk.tokenize import word_tokenize\n",
    "import string\n",
    "\n",
    "nltk.download('punkt')\n",
    "nltk.download('stopwords')\n",
    "nltk.download('wordnet')\n",
    "\n",
    "try:\n",
    "    nlp = spacy.load('en_core_web_sm')\n",
    "except OSError:\n",
    "    from spacy.cli import download\n",
    "    download('en_core_web_sm')\n",
    "    nlp = spacy.load('en_core_web_sm')\n",
    "\n",
    "stop_words = set(stopwords.words('english'))\n",
    "\n",
    "def clean_text(text):\n",
    "    text = text.lower()\n",
    "    text = text.translate(str.maketrans('', '', string.punctuation))\n",
    "    tokens = word_tokenize(text)\n",
    "    tokens = [word for word in tokens if word not in stop_words]\n",
    "    doc = nlp(\" \".join(tokens))\n",
    "    lemmatized_tokens = [token.lemma_ for token in doc]\n",
    "    \n",
    "    cleaned_text = \" \".join(lemmatized_tokens)\n",
    "    \n",
    "    return cleaned_text\n",
    "\n",
    "corpus = [\n",
    "    (\"Explain how to perform an advanced search for 3D models using 6W tags\"),\n",
    "    (\"Show me results for models created in the last week with these tags\"),\n",
    "    (\"Run a stress test simulation on the most recently added model\"),\n",
    "]\n",
    "cleaned_corpus = [clean_text(doc) for doc in corpus]\n",
    "\n",
    "for i, doc in enumerate(cleaned_corpus):\n",
    "    print(f\"Original: {corpus[i]}\")\n",
    "    print(f\"Nettoyé: {doc}\")\n",
    "    print(\"\\n\")\n"
   ]
  },
  {
   "cell_type": "code",
   "execution_count": 12,
   "metadata": {},
   "outputs": [],
   "source": [
    "df['cleaned_query'] = df['query'].apply(clean_text)\n"
   ]
  },
  {
   "cell_type": "markdown",
   "metadata": {},
   "source": [
    "## Modèles Simples\n",
    "### Naive Bayes"
   ]
  },
  {
   "cell_type": "code",
   "execution_count": 13,
   "metadata": {},
   "outputs": [],
   "source": [
    "import nltk\n",
    "import spacy\n",
    "from nltk.corpus import stopwords\n",
    "from nltk.tokenize import word_tokenize\n",
    "import string\n",
    "from sklearn.feature_extraction.text import TfidfVectorizer\n",
    "from sklearn.naive_bayes import MultinomialNB\n",
    "from sklearn.model_selection import train_test_split, cross_val_score\n",
    "from sklearn.metrics import classification_report"
   ]
  },
  {
   "cell_type": "code",
   "execution_count": 14,
   "metadata": {},
   "outputs": [
    {
     "name": "stdout",
     "output_type": "stream",
     "text": [
      "                  precision    recall  f1-score   support\n",
      "\n",
      "         3ds_doc       1.00      1.00      1.00        10\n",
      "federated_search       1.00      1.00      1.00        10\n",
      "      simulation       1.00      1.00      1.00        10\n",
      "\n",
      "        accuracy                           1.00        30\n",
      "       macro avg       1.00      1.00      1.00        30\n",
      "    weighted avg       1.00      1.00      1.00        30\n",
      "\n",
      "Accuracy: 0.95 (+/- 0.05)\n",
      "cleaned query ['launch simulation product']\n",
      "Predicted agent: federated_search\n"
     ]
    }
   ],
   "source": [
    "df['cleaned_query'] = df['query'].apply(clean_text)\n",
    "\n",
    "vectorizer = TfidfVectorizer()\n",
    "X = vectorizer.fit_transform(df['cleaned_query'])\n",
    "y = df['agent']\n",
    "\n",
    "X_train, X_test, y_train, y_test = train_test_split(X, y, test_size=0.2, random_state=42)\n",
    "\n",
    "model = MultinomialNB()\n",
    "model.fit(X_train, y_train)\n",
    "\n",
    "y_pred = model.predict(X_test)\n",
    "\n",
    "print(classification_report(y_test, y_pred))\n",
    "\n",
    "# Validation croisée\n",
    "scores = cross_val_score(model, X, y, cv=5)\n",
    "print(\"Accuracy: %0.2f (+/- %0.2f)\" % (scores.mean(), scores.std()))\n",
    "\n",
    "example_query = [\"launch simulation about products\"]\n",
    "cleaned_example_query = [clean_text(query) for query in example_query]\n",
    "print(\"cleaned query\", cleaned_example_query)\n",
    "vectorized_example_query = vectorizer.transform(cleaned_example_query)\n",
    "predicted_agent = model.predict(vectorized_example_query)\n",
    "print(f\"Predicted agent: {predicted_agent[0]}\")"
   ]
  },
  {
   "cell_type": "markdown",
   "metadata": {},
   "source": [
    "### Logistic Regression"
   ]
  },
  {
   "cell_type": "code",
   "execution_count": null,
   "metadata": {},
   "outputs": [],
   "source": []
  },
  {
   "cell_type": "markdown",
   "metadata": {},
   "source": [
    "## Modèles Avancés\n",
    "### SVM "
   ]
  },
  {
   "cell_type": "markdown",
   "metadata": {},
   "source": []
  },
  {
   "cell_type": "markdown",
   "metadata": {},
   "source": [
    "### LSTM"
   ]
  },
  {
   "cell_type": "markdown",
   "metadata": {},
   "source": [
    "## BERT "
   ]
  },
  {
   "cell_type": "code",
   "execution_count": 16,
   "metadata": {},
   "outputs": [
    {
     "name": "stderr",
     "output_type": "stream",
     "text": [
      "Some weights of BertForSequenceClassification were not initialized from the model checkpoint at bert-base-uncased and are newly initialized: ['classifier.bias', 'classifier.weight']\n",
      "You should probably TRAIN this model on a down-stream task to be able to use it for predictions and inference.\n",
      "                                               \n",
      " 96%|█████████▌| 43/45 [01:22<00:02,  1.47s/it]"
     ]
    },
    {
     "name": "stdout",
     "output_type": "stream",
     "text": [
      "{'loss': 1.2562, 'grad_norm': 9.378636360168457, 'learning_rate': 1.0000000000000002e-06, 'epoch': 0.67}\n"
     ]
    },
    {
     "name": "stderr",
     "output_type": "stream",
     "text": [
      "                                               \n",
      " 96%|█████████▌| 43/45 [01:36<00:02,  1.47s/it]"
     ]
    },
    {
     "name": "stdout",
     "output_type": "stream",
     "text": [
      "{'loss': 1.1561, 'grad_norm': 8.335415840148926, 'learning_rate': 2.0000000000000003e-06, 'epoch': 1.33}\n"
     ]
    },
    {
     "name": "stderr",
     "output_type": "stream",
     "text": [
      "                                               \n",
      " 96%|█████████▌| 43/45 [01:51<00:02,  1.47s/it]"
     ]
    },
    {
     "name": "stdout",
     "output_type": "stream",
     "text": [
      "{'loss': 1.1124, 'grad_norm': 11.534444808959961, 'learning_rate': 3e-06, 'epoch': 2.0}\n"
     ]
    },
    {
     "name": "stderr",
     "output_type": "stream",
     "text": [
      "                                               \n",
      " 96%|█████████▌| 43/45 [02:05<00:02,  1.47s/it]"
     ]
    },
    {
     "name": "stdout",
     "output_type": "stream",
     "text": [
      "{'loss': 0.9867, 'grad_norm': 7.498655319213867, 'learning_rate': 4.000000000000001e-06, 'epoch': 2.67}\n"
     ]
    },
    {
     "name": "stderr",
     "output_type": "stream",
     "text": [
      "                                               \n",
      " 96%|█████████▌| 43/45 [02:19<00:02,  1.47s/it]"
     ]
    },
    {
     "name": "stdout",
     "output_type": "stream",
     "text": [
      "{'loss': 0.9482, 'grad_norm': 11.875227928161621, 'learning_rate': 5e-06, 'epoch': 3.33}\n"
     ]
    },
    {
     "name": "stderr",
     "output_type": "stream",
     "text": [
      "                                               \n",
      " 96%|█████████▌| 43/45 [02:33<00:02,  1.47s/it]"
     ]
    },
    {
     "name": "stdout",
     "output_type": "stream",
     "text": [
      "{'loss': 0.7929, 'grad_norm': 9.046985626220703, 'learning_rate': 6e-06, 'epoch': 4.0}\n"
     ]
    },
    {
     "name": "stderr",
     "output_type": "stream",
     "text": [
      "                                               \n",
      " 96%|█████████▌| 43/45 [02:48<00:02,  1.47s/it]"
     ]
    },
    {
     "name": "stdout",
     "output_type": "stream",
     "text": [
      "{'loss': 0.7029, 'grad_norm': 6.858527183532715, 'learning_rate': 7.000000000000001e-06, 'epoch': 4.67}\n"
     ]
    },
    {
     "name": "stderr",
     "output_type": "stream",
     "text": [
      "                                               \n",
      "100%|██████████| 75/75 [01:47<00:00,  1.43s/it]\n"
     ]
    },
    {
     "name": "stdout",
     "output_type": "stream",
     "text": [
      "{'train_runtime': 107.1116, 'train_samples_per_second': 5.508, 'train_steps_per_second': 0.7, 'train_loss': 0.9705615297953287, 'epoch': 5.0}\n"
     ]
    },
    {
     "name": "stderr",
     "output_type": "stream",
     "text": [
      "100%|██████████| 4/4 [00:00<00:00,  4.66it/s]"
     ]
    },
    {
     "name": "stdout",
     "output_type": "stream",
     "text": [
      "                  precision    recall  f1-score   support\n",
      "\n",
      "         3ds_doc       0.00      0.00      0.00        10\n",
      "federated_search       1.00      1.00      1.00        10\n",
      "      simulation       0.50      1.00      0.67        10\n",
      "\n",
      "        accuracy                           0.67        30\n",
      "       macro avg       0.50      0.67      0.56        30\n",
      "    weighted avg       0.50      0.67      0.56        30\n",
      "\n",
      "Predicted agent: simulation\n"
     ]
    },
    {
     "name": "stderr",
     "output_type": "stream",
     "text": [
      "\n",
      "c:\\USERS\\AAI47\\CHATBOT_POC1\\lib\\site-packages\\sklearn\\metrics\\_classification.py:1509: UndefinedMetricWarning: Precision is ill-defined and being set to 0.0 in labels with no predicted samples. Use `zero_division` parameter to control this behavior.\n",
      "  _warn_prf(average, modifier, f\"{metric.capitalize()} is\", len(result))\n",
      "c:\\USERS\\AAI47\\CHATBOT_POC1\\lib\\site-packages\\sklearn\\metrics\\_classification.py:1509: UndefinedMetricWarning: Precision is ill-defined and being set to 0.0 in labels with no predicted samples. Use `zero_division` parameter to control this behavior.\n",
      "  _warn_prf(average, modifier, f\"{metric.capitalize()} is\", len(result))\n",
      "c:\\USERS\\AAI47\\CHATBOT_POC1\\lib\\site-packages\\sklearn\\metrics\\_classification.py:1509: UndefinedMetricWarning: Precision is ill-defined and being set to 0.0 in labels with no predicted samples. Use `zero_division` parameter to control this behavior.\n",
      "  _warn_prf(average, modifier, f\"{metric.capitalize()} is\", len(result))\n"
     ]
    }
   ],
   "source": [
    "import pandas as pd\n",
    "from sklearn.model_selection import train_test_split\n",
    "from sklearn.metrics import classification_report\n",
    "from transformers import BertTokenizer, BertForSequenceClassification\n",
    "from transformers import Trainer, TrainingArguments\n",
    "import torch\n",
    "\n",
    "\n",
    "train_df, test_df = train_test_split(df, test_size=0.2, random_state=42)\n",
    "\n",
    "tokenizer = BertTokenizer.from_pretrained('bert-base-uncased')\n",
    "model = BertForSequenceClassification.from_pretrained('bert-base-uncased', num_labels=3)\n",
    "\n",
    "label_map = {'3ds_doc': 0, 'federated_search': 1, 'simulation': 2}\n",
    "train_df['label'] = train_df['agent'].map(label_map)\n",
    "test_df['label'] = test_df['agent'].map(label_map)\n",
    "\n",
    "class Dataset(torch.utils.data.Dataset):\n",
    "    def __init__(self, encodings, labels):\n",
    "        self.encodings = encodings\n",
    "        self.labels = labels\n",
    "\n",
    "    def __getitem__(self, idx):\n",
    "        item = {key: torch.tensor(val[idx]) for key, val in self.encodings.items()}\n",
    "        item['labels'] = torch.tensor(self.labels[idx])\n",
    "        return item\n",
    "\n",
    "    def __len__(self):\n",
    "        return len(self.labels)\n",
    "\n",
    "train_encodings = tokenizer(train_df['query'].tolist(), truncation=True, padding=True)\n",
    "test_encodings = tokenizer(test_df['query'].tolist(), truncation=True, padding=True)\n",
    "\n",
    "train_dataset = Dataset(train_encodings, train_df['label'].tolist())\n",
    "test_dataset = Dataset(test_encodings, test_df['label'].tolist())\n",
    "\n",
    "# Entraîner le modèle\n",
    "training_args = TrainingArguments(\n",
    "    output_dir='./results',          \n",
    "    num_train_epochs=5,              \n",
    "    per_device_train_batch_size=8,  \n",
    "    per_device_eval_batch_size=8,   \n",
    "    warmup_steps=500,                \n",
    "    weight_decay=0.01,               \n",
    "    logging_dir='./logs',            \n",
    "    logging_steps=10,\n",
    ")\n",
    "\n",
    "trainer = Trainer(\n",
    "    model=model,                        \n",
    "    args=training_args,                  \n",
    "    train_dataset=train_dataset,         \n",
    "    eval_dataset=test_dataset             \n",
    ")\n",
    "\n",
    "trainer.train()\n",
    "\n",
    "outputs = trainer.predict(test_dataset)\n",
    "y_pred = outputs.predictions.argmax(-1)\n",
    "y_true = test_df['label']\n",
    "\n",
    "print(classification_report(y_true, y_pred, target_names=label_map.keys()))\n",
    "\n",
    "example_query = [\"Explain how to perform a search for models and filter them\"]\n",
    "example_encodings = tokenizer(example_query, truncation=True, padding=True, return_tensors=\"pt\")\n",
    "with torch.no_grad():\n",
    "    outputs = model(**example_encodings)\n",
    "predicted_label = outputs.logits.argmax(-1).item()\n",
    "predicted_agent = list(label_map.keys())[list(label_map.values()).index(predicted_label)]\n",
    "print(f\"Predicted agent: {predicted_agent}\")\n"
   ]
  }
 ],
 "metadata": {
  "kernelspec": {
   "display_name": "CHATBOT_POC1",
   "language": "python",
   "name": "python3"
  },
  "language_info": {
   "codemirror_mode": {
    "name": "ipython",
    "version": 3
   },
   "file_extension": ".py",
   "mimetype": "text/x-python",
   "name": "python",
   "nbconvert_exporter": "python",
   "pygments_lexer": "ipython3",
   "version": "3.9.13"
  }
 },
 "nbformat": 4,
 "nbformat_minor": 2
}
